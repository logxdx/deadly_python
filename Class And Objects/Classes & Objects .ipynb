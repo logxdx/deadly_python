{
 "cells": [
  {
   "attachments": {},
   "cell_type": "markdown",
   "metadata": {},
   "source": [
    "# Creating Co-Ordinate Class and define a method to calculate distance betweem them"
   ]
  },
  {
   "cell_type": "code",
   "execution_count": 1,
   "metadata": {},
   "outputs": [],
   "source": [
    "class coordinate():\n",
    "    def __init__(self,x,y):\n",
    "        self.x=x\n",
    "        self.y=y\n",
    "\n",
    "    def distance(self,other):\n",
    "        return ((self.x-other.x)**2+(self.y-other.y)**2)**0.5\n",
    "    \n",
    "    def __str__(self):\n",
    "        return f\"<{self.x},{self.y}>\"\n"
   ]
  },
  {
   "attachments": {},
   "cell_type": "markdown",
   "metadata": {},
   "source": [
    "#### Creating instances of the Co-Ordinate class"
   ]
  },
  {
   "cell_type": "code",
   "execution_count": 2,
   "metadata": {},
   "outputs": [],
   "source": [
    "# Creating instances of the class \"coordinate\"\n",
    "c = coordinate(3,4)\n",
    "o = coordinate(0,0)\n"
   ]
  },
  {
   "attachments": {},
   "cell_type": "markdown",
   "metadata": {},
   "source": [
    "#### Printing Co-Ordinates"
   ]
  },
  {
   "cell_type": "code",
   "execution_count": 3,
   "metadata": {},
   "outputs": [
    {
     "name": "stdout",
     "output_type": "stream",
     "text": [
      "## Using Attribute References ##\n",
      "C: (3,4)\n",
      "Origin: (0,0)\n",
      "\n",
      "## Using __str__ method ##\n",
      "C: <3,4>\n",
      "Orign: <0,0>\n"
     ]
    }
   ],
   "source": [
    "print(\"## Using Attribute References ##\")\n",
    "print(f\"C: ({c.x},{c.y})\") # Co-Ordinates of C\n",
    "print(f\"Origin: ({o.x},{o.y})\") # Co-Ordinates of C\n",
    "print()\n",
    "print(\"## Using __str__ method ##\")\n",
    "print(f\"C: {c}\")\n",
    "print(f\"Orign: {o}\")"
   ]
  },
  {
   "attachments": {},
   "cell_type": "markdown",
   "metadata": {},
   "source": [
    "#### Calculating distance between the points "
   ]
  },
  {
   "cell_type": "code",
   "execution_count": 4,
   "metadata": {},
   "outputs": [
    {
     "name": "stdout",
     "output_type": "stream",
     "text": [
      "Distance between point C and origin :\n",
      "5.0\n",
      "2.23606797749979\n",
      "2.8284271247461903\n"
     ]
    }
   ],
   "source": [
    "print(\"Distance between point C and origin :\")\n",
    "print(c.distance(o))\n",
    "print(o.distance(coordinate(1,2)))\n",
    "print(coordinate.distance(c,coordinate(1,2)))\n"
   ]
  },
  {
   "attachments": {},
   "cell_type": "markdown",
   "metadata": {},
   "source": [
    "# Creating Fraction Class and defining Fractional Mathematical Functions"
   ]
  },
  {
   "cell_type": "code",
   "execution_count": 5,
   "metadata": {},
   "outputs": [],
   "source": [
    "class fraction():\n",
    "    def __init__(self,numerator,denominator):\n",
    "        self.numerator=numerator\n",
    "        self.denominator=denominator\n",
    "\n",
    "    def __str__(self):\n",
    "        return f\"{self.numerator}/{self.denominator}\"\n",
    "    \n",
    "    def __add__(self,other):\n",
    "        return fraction(self.numerator*other.denominator+self.denominator*other.numerator,self.denominator*other.denominator)\n",
    "    \n",
    "    def __sub__(self,other):\n",
    "        return fraction(self.numerator*other.denominator-self.denominator*other.numerator,self.denominator*other.denominator)\n",
    "    \n",
    "    def __mul__(self,other):\n",
    "        return fraction(self.numerator*other.numerator,self.denominator*other.denominator)\n",
    "    \n",
    "    def __truediv__(self,other):\n",
    "        return fraction(self.numerator*other.denominator,self.denominator*other.numerator)\n",
    "    \n",
    "    def __float_conversion__(self):\n",
    "        return float(self.numerator)/float(self.denominator)"
   ]
  },
  {
   "attachments": {},
   "cell_type": "markdown",
   "metadata": {},
   "source": [
    "#### Creating instances of the Fraction class"
   ]
  },
  {
   "cell_type": "code",
   "execution_count": 6,
   "metadata": {},
   "outputs": [],
   "source": [
    "x = fraction(1,4)\n",
    "y = fraction(1,3)"
   ]
  },
  {
   "attachments": {},
   "cell_type": "markdown",
   "metadata": {},
   "source": [
    "#### Printing fractions"
   ]
  },
  {
   "cell_type": "code",
   "execution_count": 7,
   "metadata": {},
   "outputs": [
    {
     "name": "stdout",
     "output_type": "stream",
     "text": [
      "## Using Atrribute References ##\n",
      "x: 1/4\n",
      "y: 1/3\n",
      "\n",
      "## Using __str__ method ##\n",
      "x: 1/4\n",
      "y: 1/3\n"
     ]
    }
   ],
   "source": [
    "print(\"## Using Atrribute References ##\")\n",
    "print(f\"x: {x.numerator}/{x.denominator}\")\n",
    "print(f\"y: {y.numerator}/{y.denominator}\")\n",
    "print()\n",
    "print(\"## Using __str__ method ##\")\n",
    "print(f\"x: {x}\")\n",
    "print(f\"y: {y}\")"
   ]
  },
  {
   "attachments": {},
   "cell_type": "markdown",
   "metadata": {},
   "source": [
    "#### Fractional calculations"
   ]
  },
  {
   "cell_type": "code",
   "execution_count": 8,
   "metadata": {},
   "outputs": [
    {
     "name": "stdout",
     "output_type": "stream",
     "text": [
      "sum: 7/12\n",
      "difference: -1/12\n",
      "product: 1/12\n",
      "division: 3/4\n",
      "x in decimals: 0.25\n",
      "y in decimals: 0.3333333333333333\n"
     ]
    }
   ],
   "source": [
    "print(f\"sum: {fraction.__add__(x,y)}\")\n",
    "print(f\"difference: {fraction.__sub__(x,y)}\")\n",
    "print(f\"product: {fraction.__mul__(x,y)}\")\n",
    "print(f\"division: {fraction.__truediv__(x,y)}\")\n",
    "print(f\"x in decimals: {fraction.__float_conversion__(x)}\")\n",
    "print(f\"y in decimals: {fraction.__float_conversion__(y)}\")"
   ]
  },
  {
   "attachments": {},
   "cell_type": "markdown",
   "metadata": {},
   "source": [
    "# "
   ]
  },
  {
   "attachments": {},
   "cell_type": "markdown",
   "metadata": {},
   "source": [
    "# Inheritance and Derived Classes\n",
    "## Using Point in Circle and Circle in Cylinder"
   ]
  },
  {
   "cell_type": "code",
   "execution_count": 9,
   "metadata": {},
   "outputs": [],
   "source": [
    "class point():\n",
    "    def __init__(self,x=0,y=0):\n",
    "        self.x=x\n",
    "        self.y=y\n",
    "\n",
    "    def distance(self,other):\n",
    "        return ((self.x-other.x)**2+(self.y-other.y)**2)**0.5\n",
    "    \n",
    "    def __str__(self):\n",
    "        return f\"<{self.x},{self.y}>\"\n",
    "\n",
    "class circle(point):\n",
    "    def __init__(self,x=0,y=0,radius=0):\n",
    "        point.__init__(self,x,y)\n",
    "        self.radius=radius\n",
    "    \n",
    "    def area(self):\n",
    "        return 3.14*(self.radius**2)\n",
    "    \n",
    "    def perimeter(self):\n",
    "        return 2*3.14*self.radius\n",
    "    \n",
    "class cylinder(circle):\n",
    "    def __init__(self,x=0,y=0,radius=0,height=0):\n",
    "        circle.__init__(self,x,y,radius)\n",
    "        self.height=height\n",
    "    \n",
    "    def volume(self):\n",
    "        return self.area()*self.height\n",
    "    \n",
    "    def surface_area(self):\n",
    "        return 2*3.14*self.radius*self.height + 2*self.area()"
   ]
  },
  {
   "cell_type": "code",
   "execution_count": 10,
   "metadata": {},
   "outputs": [
    {
     "name": "stdout",
     "output_type": "stream",
     "text": [
      "Points:\n",
      "<0,0>\n",
      "<3,4>\n",
      "Distance between <0,0> and <3,4> is: 5.0\n",
      "-------\n",
      "Circle:\n",
      "Centre: (3, 4)\n",
      "Radius: 5\n",
      "Area: 78.5\n",
      "Perimeter: 31.400000000000002\n",
      "-------\n",
      "Cylinder:\n",
      "Centre: (3, 4)\n",
      "Radius: 5\n",
      "Height: 6\n",
      "Volume: 471.0\n",
      "Surface Area: 345.4\n"
     ]
    }
   ],
   "source": [
    "print(\"Points:\")\n",
    "c = point()\n",
    "a = point(3,4)\n",
    "print(c)\n",
    "print(a)\n",
    "print(f\"Distance between {c} and {a} is: {point.distance(c,a)}\")\n",
    "\n",
    "print(\"-------\")\n",
    "\n",
    "print(\"Circle:\")\n",
    "cir = circle(3,4,5)\n",
    "print(\"Centre:\",(cir.x,cir.y))\n",
    "print(\"Radius:\",cir.radius)\n",
    "print(\"Area:\",cir.area())\n",
    "print(\"Perimeter:\",cir.perimeter())\n",
    "\n",
    "print(\"-------\")\n",
    "\n",
    "print(\"Cylinder:\")\n",
    "cy = cylinder(3,4,5,6)\n",
    "print(\"Centre:\",(cy.x,cy.y))\n",
    "print(\"Radius:\",cy.radius)\n",
    "print(\"Height:\",cy.height)\n",
    "print(\"Volume:\",cy.volume())\n",
    "print(\"Surface Area:\",cy.surface_area())"
   ]
  }
 ],
 "metadata": {
  "kernelspec": {
   "display_name": "Python 3",
   "language": "python",
   "name": "python3"
  },
  "language_info": {
   "codemirror_mode": {
    "name": "ipython",
    "version": 3
   },
   "file_extension": ".py",
   "mimetype": "text/x-python",
   "name": "python",
   "nbconvert_exporter": "python",
   "pygments_lexer": "ipython3",
   "version": "3.11.4"
  },
  "orig_nbformat": 4
 },
 "nbformat": 4,
 "nbformat_minor": 2
}
